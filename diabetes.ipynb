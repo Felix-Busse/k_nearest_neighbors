{
 "cells": [
  {
   "cell_type": "markdown",
   "id": "7ba404ab",
   "metadata": {},
   "source": [
    "# k-Nearest-Neighbors: kNN-regressor"
   ]
  },
  {
   "cell_type": "markdown",
   "id": "03dd4b61",
   "metadata": {},
   "source": [
    "## loading data and data exploration"
   ]
  },
  {
   "cell_type": "code",
   "execution_count": 57,
   "id": "9f4f2074",
   "metadata": {},
   "outputs": [],
   "source": [
    "import matplotlib.pyplot as plt\n",
    "import numpy as np\n",
    "import pandas as pd\n",
    "from sklearn.datasets import load_diabetes\n",
    "from sklearn.decomposition import PCA\n",
    "from sklearn.preprocessing import MinMaxScaler\n",
    "from sklearn.model_selection import train_test_split\n",
    "from sklearn.neighbors import KNeighborsRegressor"
   ]
  },
  {
   "cell_type": "code",
   "execution_count": 2,
   "id": "f481453b",
   "metadata": {},
   "outputs": [
    {
     "name": "stdout",
     "output_type": "stream",
     "text": [
      "Are any missing values in feature data set? \n",
      "Answer:\tFalse\n",
      "Are any missing values in target data set?\n",
      "Answer:\tFalse\n"
     ]
    },
    {
     "data": {
      "text/html": [
       "<div>\n",
       "<style scoped>\n",
       "    .dataframe tbody tr th:only-of-type {\n",
       "        vertical-align: middle;\n",
       "    }\n",
       "\n",
       "    .dataframe tbody tr th {\n",
       "        vertical-align: top;\n",
       "    }\n",
       "\n",
       "    .dataframe thead th {\n",
       "        text-align: right;\n",
       "    }\n",
       "</style>\n",
       "<table border=\"1\" class=\"dataframe\">\n",
       "  <thead>\n",
       "    <tr style=\"text-align: right;\">\n",
       "      <th></th>\n",
       "      <th>age</th>\n",
       "      <th>sex</th>\n",
       "      <th>bmi</th>\n",
       "      <th>bp</th>\n",
       "      <th>s1</th>\n",
       "      <th>s2</th>\n",
       "      <th>s3</th>\n",
       "      <th>s4</th>\n",
       "      <th>s5</th>\n",
       "      <th>s6</th>\n",
       "      <th>target</th>\n",
       "    </tr>\n",
       "  </thead>\n",
       "  <tbody>\n",
       "    <tr>\n",
       "      <th>age</th>\n",
       "      <td>1.000000</td>\n",
       "      <td>0.173737</td>\n",
       "      <td>0.185085</td>\n",
       "      <td>0.335428</td>\n",
       "      <td>0.260061</td>\n",
       "      <td>0.219243</td>\n",
       "      <td>-0.075181</td>\n",
       "      <td>0.203841</td>\n",
       "      <td>0.270774</td>\n",
       "      <td>0.301731</td>\n",
       "      <td>0.187889</td>\n",
       "    </tr>\n",
       "    <tr>\n",
       "      <th>sex</th>\n",
       "      <td>0.173737</td>\n",
       "      <td>1.000000</td>\n",
       "      <td>0.088161</td>\n",
       "      <td>0.241010</td>\n",
       "      <td>0.035277</td>\n",
       "      <td>0.142637</td>\n",
       "      <td>-0.379090</td>\n",
       "      <td>0.332115</td>\n",
       "      <td>0.149916</td>\n",
       "      <td>0.208133</td>\n",
       "      <td>0.043062</td>\n",
       "    </tr>\n",
       "    <tr>\n",
       "      <th>bmi</th>\n",
       "      <td>0.185085</td>\n",
       "      <td>0.088161</td>\n",
       "      <td>1.000000</td>\n",
       "      <td>0.395411</td>\n",
       "      <td>0.249777</td>\n",
       "      <td>0.261170</td>\n",
       "      <td>-0.366811</td>\n",
       "      <td>0.413807</td>\n",
       "      <td>0.446157</td>\n",
       "      <td>0.388680</td>\n",
       "      <td>0.586450</td>\n",
       "    </tr>\n",
       "    <tr>\n",
       "      <th>bp</th>\n",
       "      <td>0.335428</td>\n",
       "      <td>0.241010</td>\n",
       "      <td>0.395411</td>\n",
       "      <td>1.000000</td>\n",
       "      <td>0.242464</td>\n",
       "      <td>0.185548</td>\n",
       "      <td>-0.178762</td>\n",
       "      <td>0.257650</td>\n",
       "      <td>0.393480</td>\n",
       "      <td>0.390430</td>\n",
       "      <td>0.441482</td>\n",
       "    </tr>\n",
       "    <tr>\n",
       "      <th>s1</th>\n",
       "      <td>0.260061</td>\n",
       "      <td>0.035277</td>\n",
       "      <td>0.249777</td>\n",
       "      <td>0.242464</td>\n",
       "      <td>1.000000</td>\n",
       "      <td>0.896663</td>\n",
       "      <td>0.051519</td>\n",
       "      <td>0.542207</td>\n",
       "      <td>0.515503</td>\n",
       "      <td>0.325717</td>\n",
       "      <td>0.212022</td>\n",
       "    </tr>\n",
       "    <tr>\n",
       "      <th>s2</th>\n",
       "      <td>0.219243</td>\n",
       "      <td>0.142637</td>\n",
       "      <td>0.261170</td>\n",
       "      <td>0.185548</td>\n",
       "      <td>0.896663</td>\n",
       "      <td>1.000000</td>\n",
       "      <td>-0.196455</td>\n",
       "      <td>0.659817</td>\n",
       "      <td>0.318357</td>\n",
       "      <td>0.290600</td>\n",
       "      <td>0.174054</td>\n",
       "    </tr>\n",
       "    <tr>\n",
       "      <th>s3</th>\n",
       "      <td>-0.075181</td>\n",
       "      <td>-0.379090</td>\n",
       "      <td>-0.366811</td>\n",
       "      <td>-0.178762</td>\n",
       "      <td>0.051519</td>\n",
       "      <td>-0.196455</td>\n",
       "      <td>1.000000</td>\n",
       "      <td>-0.738493</td>\n",
       "      <td>-0.398577</td>\n",
       "      <td>-0.273697</td>\n",
       "      <td>-0.394789</td>\n",
       "    </tr>\n",
       "    <tr>\n",
       "      <th>s4</th>\n",
       "      <td>0.203841</td>\n",
       "      <td>0.332115</td>\n",
       "      <td>0.413807</td>\n",
       "      <td>0.257650</td>\n",
       "      <td>0.542207</td>\n",
       "      <td>0.659817</td>\n",
       "      <td>-0.738493</td>\n",
       "      <td>1.000000</td>\n",
       "      <td>0.617859</td>\n",
       "      <td>0.417212</td>\n",
       "      <td>0.430453</td>\n",
       "    </tr>\n",
       "    <tr>\n",
       "      <th>s5</th>\n",
       "      <td>0.270774</td>\n",
       "      <td>0.149916</td>\n",
       "      <td>0.446157</td>\n",
       "      <td>0.393480</td>\n",
       "      <td>0.515503</td>\n",
       "      <td>0.318357</td>\n",
       "      <td>-0.398577</td>\n",
       "      <td>0.617859</td>\n",
       "      <td>1.000000</td>\n",
       "      <td>0.464669</td>\n",
       "      <td>0.565883</td>\n",
       "    </tr>\n",
       "    <tr>\n",
       "      <th>s6</th>\n",
       "      <td>0.301731</td>\n",
       "      <td>0.208133</td>\n",
       "      <td>0.388680</td>\n",
       "      <td>0.390430</td>\n",
       "      <td>0.325717</td>\n",
       "      <td>0.290600</td>\n",
       "      <td>-0.273697</td>\n",
       "      <td>0.417212</td>\n",
       "      <td>0.464669</td>\n",
       "      <td>1.000000</td>\n",
       "      <td>0.382483</td>\n",
       "    </tr>\n",
       "    <tr>\n",
       "      <th>target</th>\n",
       "      <td>0.187889</td>\n",
       "      <td>0.043062</td>\n",
       "      <td>0.586450</td>\n",
       "      <td>0.441482</td>\n",
       "      <td>0.212022</td>\n",
       "      <td>0.174054</td>\n",
       "      <td>-0.394789</td>\n",
       "      <td>0.430453</td>\n",
       "      <td>0.565883</td>\n",
       "      <td>0.382483</td>\n",
       "      <td>1.000000</td>\n",
       "    </tr>\n",
       "  </tbody>\n",
       "</table>\n",
       "</div>"
      ],
      "text/plain": [
       "             age       sex       bmi        bp        s1        s2        s3  \\\n",
       "age     1.000000  0.173737  0.185085  0.335428  0.260061  0.219243 -0.075181   \n",
       "sex     0.173737  1.000000  0.088161  0.241010  0.035277  0.142637 -0.379090   \n",
       "bmi     0.185085  0.088161  1.000000  0.395411  0.249777  0.261170 -0.366811   \n",
       "bp      0.335428  0.241010  0.395411  1.000000  0.242464  0.185548 -0.178762   \n",
       "s1      0.260061  0.035277  0.249777  0.242464  1.000000  0.896663  0.051519   \n",
       "s2      0.219243  0.142637  0.261170  0.185548  0.896663  1.000000 -0.196455   \n",
       "s3     -0.075181 -0.379090 -0.366811 -0.178762  0.051519 -0.196455  1.000000   \n",
       "s4      0.203841  0.332115  0.413807  0.257650  0.542207  0.659817 -0.738493   \n",
       "s5      0.270774  0.149916  0.446157  0.393480  0.515503  0.318357 -0.398577   \n",
       "s6      0.301731  0.208133  0.388680  0.390430  0.325717  0.290600 -0.273697   \n",
       "target  0.187889  0.043062  0.586450  0.441482  0.212022  0.174054 -0.394789   \n",
       "\n",
       "              s4        s5        s6    target  \n",
       "age     0.203841  0.270774  0.301731  0.187889  \n",
       "sex     0.332115  0.149916  0.208133  0.043062  \n",
       "bmi     0.413807  0.446157  0.388680  0.586450  \n",
       "bp      0.257650  0.393480  0.390430  0.441482  \n",
       "s1      0.542207  0.515503  0.325717  0.212022  \n",
       "s2      0.659817  0.318357  0.290600  0.174054  \n",
       "s3     -0.738493 -0.398577 -0.273697 -0.394789  \n",
       "s4      1.000000  0.617859  0.417212  0.430453  \n",
       "s5      0.617859  1.000000  0.464669  0.565883  \n",
       "s6      0.417212  0.464669  1.000000  0.382483  \n",
       "target  0.430453  0.565883  0.382483  1.000000  "
      ]
     },
     "execution_count": 2,
     "metadata": {},
     "output_type": "execute_result"
    }
   ],
   "source": [
    "# Load data from scikit_learn\n",
    "diabetes_dict = load_diabetes()\n",
    "# Construct DataFrame with features data, Data is already normalized according to documentation\n",
    "data = pd.DataFrame(diabetes_dict['data'], columns=diabetes_dict['feature_names'])\n",
    "# Scaler target data to scale [0, 1]\n",
    "scaler = MinMaxScaler()\n",
    "targets_scaled = scaler.fit_transform(diabetes_dict['target'][:, np.newaxis])\n",
    "# Construct DataFrame with target data\n",
    "data_target = pd.DataFrame(targets_scaled, columns=['target'])\n",
    "\n",
    "# Explore whether there are missing values among the features, Result: no\n",
    "print(f'Are any missing values in feature data set? \\nAnswer:\\t{data.isna().any().any()}\\n\\\n",
    "Are any missing values in target data set?\\nAnswer:\\t{data_target.isna().any().any()}')\n",
    "# Explore if there are irrelevant features by calculating Pearson-correlation with target\n",
    "pd.concat([data, data_target], axis=1).corr()"
   ]
  },
  {
   "cell_type": "code",
   "execution_count": 3,
   "id": "38a608bc",
   "metadata": {},
   "outputs": [],
   "source": [
    "# sex has correlation close to zero with target. Thus it is excluded from regression.\n",
    "data.drop('sex', axis='columns', inplace=True)"
   ]
  },
  {
   "cell_type": "code",
   "execution_count": 4,
   "id": "d195b311",
   "metadata": {},
   "outputs": [
    {
     "name": "stdout",
     "output_type": "stream",
     "text": [
      "     age  bmi   bp        s1        s2   s3        s4        s5   s6\n",
      "age  1.0  NaN  NaN       NaN       NaN  NaN       NaN       NaN  NaN\n",
      "bmi  NaN  1.0  NaN       NaN       NaN  NaN       NaN       NaN  NaN\n",
      "bp   NaN  NaN  1.0       NaN       NaN  NaN       NaN       NaN  NaN\n",
      "s1   NaN  NaN  NaN  1.000000  0.896663  NaN  0.542207  0.515503  NaN\n",
      "s2   NaN  NaN  NaN  0.896663  1.000000  NaN  0.659817       NaN  NaN\n",
      "s3   NaN  NaN  NaN       NaN       NaN  1.0       NaN       NaN  NaN\n",
      "s4   NaN  NaN  NaN  0.542207  0.659817  NaN  1.000000  0.617859  NaN\n",
      "s5   NaN  NaN  NaN  0.515503       NaN  NaN  0.617859  1.000000  NaN\n",
      "s6   NaN  NaN  NaN       NaN       NaN  NaN       NaN       NaN  1.0\n"
     ]
    }
   ],
   "source": [
    "# Are there any similar features? (check for co-linearity)\n",
    "print(data.corr()[data.corr()>0.5])\n",
    "# A correlation of >0.7 occur between s1 and s2. s2 is chosen for dropping because it also shwos 2. highest\n",
    "# observed correlation among all correlation (with s3)\n",
    "data.drop('s2', axis='columns', inplace=True)"
   ]
  },
  {
   "cell_type": "markdown",
   "id": "99f0c9ff",
   "metadata": {},
   "source": [
    "## Apply kNN-regressor to problem"
   ]
  },
  {
   "cell_type": "code",
   "execution_count": 56,
   "id": "bce2c84f",
   "metadata": {},
   "outputs": [
    {
     "data": {
      "image/png": "[encoded data removed]",
      "text/plain": [
       "<Figure size 640x480 with 1 Axes>"
      ]
     },
     "metadata": {},
     "output_type": "display_data"
    }
   ],
   "source": [
    "def rmse(a, b):\n",
    "    '''Function returns rmse for two array-like objects (must have same length)'''\n",
    "    return np.sqrt(np.sum(np.square(a - b))/len(a))\n",
    "\n",
    "# Generate train, test split with default 75 % training data, fixed random state\n",
    "X_train, X_test, y_train, y_test = train_test_split(data, data_target)\n",
    "\n",
    "# loop over possible values for number of neighrest neighbors\n",
    "# list to collect rmse in\n",
    "rmse_k = []\n",
    "for k in range(1, 41):\n",
    "    # Initiate kNNRegressor instance\n",
    "    knn = KNeighborsRegressor(n_neighbors=k)\n",
    "    # Fit regressor to \n",
    "    knn.fit(X=X_train, y=y_train)\n",
    "    # Predict on test data and calculate rmse form result\n",
    "    rmse_k.append([k, rmse(knn.predict(X_test).flatten(), y_test.to_numpy().flatten())])\n",
    "\n",
    "# Plot result\n",
    "rmse_result = pd.DataFrame(rmse_k, columns=['k', 'rmse'])\n",
    "fig, ax = plt.subplots()\n",
    "ax.set_xlabel('k')\n",
    "ax.set_ylabel('rmse')\n",
    "ax.set_title('RMSE for different k in kNN-regressor')\n",
    "ax.scatter(rmse_result.k, rmse_result.rmse)\n",
    "plt.show()"
   ]
  },
  {
   "cell_type": "markdown",
   "id": "b067d76f",
   "metadata": {},
   "source": [
    "Choosing appropriate k can achieve rmse in the range of 0.16 to 0.18 depending on train/test-split"
   ]
  },
  {
   "cell_type": "markdown",
   "id": "31c456f6",
   "metadata": {},
   "source": [
    "## Using PCA to reduce dimensionality befor fitting"
   ]
  },
  {
   "cell_type": "code",
   "execution_count": 63,
   "id": "24920e32",
   "metadata": {},
   "outputs": [
    {
     "data": {
      "text/plain": [
       "<BarContainer object of 10 artists>"
      ]
     },
     "execution_count": 63,
     "metadata": {},
     "output_type": "execute_result"
    },
    {
     "data": {
      "image/png": "[encoded data removed]",
      "text/plain": [
       "<Figure size 640x480 with 1 Axes>"
      ]
     },
     "metadata": {},
     "output_type": "display_data"
    }
   ],
   "source": [
    "# reload feature data set\n",
    "data = pd.DataFrame(diabetes_dict['data'], columns=diabetes_dict['feature_names'])\n",
    "# Perform PCA on feature data set, keep number of dimensions and explore explained variance\n",
    "pca_features = PCA()\n",
    "pca_features.fit(data)\n",
    "#plt.bar(pca_features.explained_variance_ratio_, height=.1)"
   ]
  },
  {
   "cell_type": "code",
   "execution_count": null,
   "id": "0ab94d1e",
   "metadata": {},
   "outputs": [],
   "source": []
  }
 ],
 "metadata": {
  "kernelspec": {
   "display_name": "Python 3 (ipykernel)",
   "language": "python",
   "name": "python3"
  },
  "language_info": {
   "codemirror_mode": {
    "name": "ipython",
    "version": 3
   },
   "file_extension": ".py",
   "mimetype": "text/x-python",
   "name": "python",
   "nbconvert_exporter": "python",
   "pygments_lexer": "ipython3",
   "version": "3.10.6"
  }
 },
 "nbformat": 4,
 "nbformat_minor": 5
}
