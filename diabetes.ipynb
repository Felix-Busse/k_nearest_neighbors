{
 "cells": [
  {
   "cell_type": "markdown",
   "id": "7ba404ab",
   "metadata": {},
   "source": [
    "# k-Nearest-Neighbors: kNN-regressor"
   ]
  },
  {
   "cell_type": "markdown",
   "id": "03dd4b61",
   "metadata": {},
   "source": [
    "## loading data and data exploration"
   ]
  },
  {
   "cell_type": "code",
   "execution_count": 1,
   "id": "9f4f2074",
   "metadata": {},
   "outputs": [],
   "source": [
    "import matplotlib.pyplot as plt\n",
    "import pandas as pd\n",
    "from sklearn.datasets import load_diabetes\n",
    "from sklearn.model_selection import train_test_split\n",
    "from sklearn.neighbors import KNeighborsRegressor"
   ]
  },
  {
   "cell_type": "code",
   "execution_count": 2,
   "id": "f481453b",
   "metadata": {},
   "outputs": [],
   "source": [
    "# Load data from scikit_learn\n",
    "diabetes_dict = load_diabetes()\n",
    "# Construct DataFrame with features data, Data is already normalized according to documentation\n",
    "data = pd.DataFrame(diabetes_dict['data'], columns=diabetes_dict['feature_names'])\n",
    "# Construct DataFrame with target data\n",
    "data_target = pd.DataFrame(diabetes_dict['target'], columns=['target'])\n",
    "# Generate train, test split with default 75 % training data, fixed random state\n",
    "X_train, X_test, y_train, y_test = train_test_split(data, data_target, random_state=1243)"
   ]
  },
  {
   "cell_type": "code",
   "execution_count": null,
   "id": "38a608bc",
   "metadata": {},
   "outputs": [],
   "source": []
  }
 ],
 "metadata": {
  "kernelspec": {
   "display_name": "Python 3 (ipykernel)",
   "language": "python",
   "name": "python3"
  },
  "language_info": {
   "codemirror_mode": {
    "name": "ipython",
    "version": 3
   },
   "file_extension": ".py",
   "mimetype": "text/x-python",
   "name": "python",
   "nbconvert_exporter": "python",
   "pygments_lexer": "ipython3",
   "version": "3.10.6"
  }
 },
 "nbformat": 4,
 "nbformat_minor": 5
}
