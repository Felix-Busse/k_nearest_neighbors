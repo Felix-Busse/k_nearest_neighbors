{
 "cells": [
  {
   "cell_type": "markdown",
   "id": "05913c74",
   "metadata": {},
   "source": [
    "# k-Nearest-Neighbors"
   ]
  },
  {
   "cell_type": "markdown",
   "id": "7453aa09",
   "metadata": {},
   "source": [
    "## 1) kNN-classifier on iris-data set"
   ]
  },
  {
   "cell_type": "code",
   "execution_count": 96,
   "id": "8c596066",
   "metadata": {},
   "outputs": [],
   "source": [
    "import matplotlib.pyplot as plt\n",
    "import pandas as pd\n",
    "from sklearn.datasets import load_iris\n",
    "from sklearn.datasets import load_diabetes\n",
    "from sklearn.model_selection import train_test_split\n",
    "from sklearn.neighbors import KNeighborsClassifier\n",
    "from sklearn.neighbors import KNeighborsRegressor"
   ]
  },
  {
   "cell_type": "markdown",
   "id": "6dee6d80",
   "metadata": {},
   "source": [
    "### Load data and data inspection"
   ]
  },
  {
   "cell_type": "code",
   "execution_count": 2,
   "id": "2c37a9c1",
   "metadata": {},
   "outputs": [],
   "source": [
    "# Load labeled data as a DataFrame\n",
    "iris_data_raw = load_iris(as_frame=True)['frame']\n",
    "# Load list of names of targets\n",
    "iris_names = load_iris()['target_names']\n",
    "\n",
    "# Create tweak function, to tweak raw DataFrame\n",
    "def tweak_iris(df_):\n",
    "    return df_.rename(columns=lambda s:s.replace(' ', '_') #remove white space for attribute access\n",
    "                                        .replace('_(cm)', '')) #remove unit informataion"
   ]
  },
  {
   "cell_type": "code",
   "execution_count": 3,
   "id": "83d015c4",
   "metadata": {},
   "outputs": [
    {
     "data": {
      "text/plain": [
       "sepal_length    False\n",
       "sepal_width     False\n",
       "petal_length    False\n",
       "petal_width     False\n",
       "target          False\n",
       "dtype: bool"
      ]
     },
     "execution_count": 3,
     "metadata": {},
     "output_type": "execute_result"
    }
   ],
   "source": [
    "# Use tweak function to tidy up DataFrame\n",
    "iris_data = tweak_iris(iris_data_raw)\n",
    "# Check for missing data; Result: no missing data\n",
    "iris_data.isna().any()"
   ]
  },
  {
   "cell_type": "code",
   "execution_count": 4,
   "id": "9ff594f1",
   "metadata": {},
   "outputs": [
    {
     "data": {
      "image/png": "[encoded data removed]",
      "text/plain": [
       "<Figure size 640x480 with 1 Axes>"
      ]
     },
     "metadata": {},
     "output_type": "display_data"
    }
   ],
   "source": [
    "# Check data columns for outliers, Result: No problem with outliers\n",
    "iris_data.boxplot(column=['sepal_length', 'sepal_width', 'petal_length', 'petal_width'])\n",
    "plt.title('Boxplot of data columns')\n",
    "plt.show()"
   ]
  },
  {
   "cell_type": "code",
   "execution_count": 5,
   "id": "ee80f487",
   "metadata": {},
   "outputs": [],
   "source": [
    "def norm_iris(df_):\n",
    "    '''Function normalizes first four columns of passed DataFrame to interval [0, 1].\n",
    "    It returns minimum and maximum values of columns stored in a DataFrame, as well as\n",
    "    the normalized DataFrame.'''\n",
    "    # collect names of columns in order to keep them\n",
    "    columns = list(df_.columns)[:4]\n",
    "    # store all min and max of these columns in a DataFrame\n",
    "    df_extrema = pd.DataFrame({'minimum': df_.min()[:4],\n",
    "                               'maximum': df_.max()[:4]})\n",
    "    return (df_extrema, \n",
    "            df_.assign(**{columns[i]: (df_.iloc[:, i] - df_extrema.iloc[i].minimum)/\n",
    "                          (df_extrema.iloc[i].maximum - df_extrema.iloc[i].minimum) for i in range(4)}))\n",
    "\n",
    "# Normalize iris data_set\n",
    "_, iris_data = norm_iris(iris_data)"
   ]
  },
  {
   "cell_type": "code",
   "execution_count": 73,
   "id": "5efdca04",
   "metadata": {},
   "outputs": [],
   "source": [
    "# Create train and test data set\n",
    "[list_train_dataset, list_test_dataset] = train_test_split(iris_data, test_size=0.25)\n",
    "# Create DataFrames of train and test data\n",
    "train_dataset = pd.DataFrame(list_train_dataset).reset_index(drop=True)\n",
    "test_dataset = pd.DataFrame(list_test_dataset).reset_index(drop=True)"
   ]
  },
  {
   "cell_type": "markdown",
   "id": "c4589903",
   "metadata": {},
   "source": [
    "### kNN-Classification"
   ]
  },
  {
   "cell_type": "code",
   "execution_count": 74,
   "id": "15795404",
   "metadata": {},
   "outputs": [
    {
     "name": "stdout",
     "output_type": "stream",
     "text": [
      "Percentage of correct classifications:\t97.4%\n"
     ]
    }
   ],
   "source": [
    "# Create instance of classifier\n",
    "kNN_classifier = KNeighborsClassifier(n_neighbors=5)\n",
    "# Fit classifier to training data\n",
    "kNN_classifier.fit(X=train_dataset.iloc[:, :4], y=train_dataset.iloc[:, 4])\n",
    "# Calculate predictions on test data set and create columnd stating if prediction is correct\n",
    "test_dataset = test_dataset.assign(predict_target=kNN_classifier.predict(X=test_dataset.iloc[:, :4]),\n",
    "                                   predict_correct=lambda s: s.predict_target==s.target) \n",
    "# Evaluate how good classification worked\n",
    "print(f'Percentage of correct classifications:\\t{test_dataset.predict_correct.mean():.1%}')"
   ]
  },
  {
   "cell_type": "markdown",
   "id": "77a33356",
   "metadata": {},
   "source": [
    "## 2) kNN-regressor"
   ]
  },
  {
   "cell_type": "markdown",
   "id": "e78274a6",
   "metadata": {},
   "source": [
    "## loading data and data exploration"
   ]
  },
  {
   "cell_type": "code",
   "execution_count": 113,
   "id": "36a0967e",
   "metadata": {},
   "outputs": [],
   "source": [
    "# Load data from scikit_learn\n",
    "diabetes_dict = load_diabetes()\n",
    "# Construct DataFrame with features data, Data is already normalized according to documentation\n",
    "data = pd.DataFrame(diabetes_dict['data'], columns=diabetes_dict['feature_names'])\n",
    "# Construct DataFrame with target data\n",
    "data_target = pd.DataFrame(diabetes_dict['target'], columns=['target'])\n",
    "# Generate train, test split with default 75 % training data, fixed random state\n",
    "X_train, X_test, y_train, y_test = train_test_split(data, data_target, random_state=1243)"
   ]
  },
  {
   "cell_type": "code",
   "execution_count": 127,
   "id": "9f7671cb",
   "metadata": {},
   "outputs": [
    {
     "data": {
      "text/html": [
       "<div>\n",
       "<style scoped>\n",
       "    .dataframe tbody tr th:only-of-type {\n",
       "        vertical-align: middle;\n",
       "    }\n",
       "\n",
       "    .dataframe tbody tr th {\n",
       "        vertical-align: top;\n",
       "    }\n",
       "\n",
       "    .dataframe thead th {\n",
       "        text-align: right;\n",
       "    }\n",
       "</style>\n",
       "<table border=\"1\" class=\"dataframe\">\n",
       "  <thead>\n",
       "    <tr style=\"text-align: right;\">\n",
       "      <th></th>\n",
       "      <th>age</th>\n",
       "      <th>sex</th>\n",
       "      <th>bmi</th>\n",
       "      <th>bp</th>\n",
       "      <th>s1</th>\n",
       "      <th>s2</th>\n",
       "      <th>s3</th>\n",
       "      <th>s4</th>\n",
       "      <th>s5</th>\n",
       "      <th>s6</th>\n",
       "      <th>target</th>\n",
       "    </tr>\n",
       "  </thead>\n",
       "  <tbody>\n",
       "    <tr>\n",
       "      <th>s3</th>\n",
       "      <td>-0.075181</td>\n",
       "      <td>-0.379090</td>\n",
       "      <td>-0.366811</td>\n",
       "      <td>-0.178762</td>\n",
       "      <td>0.051519</td>\n",
       "      <td>-0.196455</td>\n",
       "      <td>1.000000</td>\n",
       "      <td>-0.738493</td>\n",
       "      <td>-0.398577</td>\n",
       "      <td>-0.273697</td>\n",
       "      <td>-0.394789</td>\n",
       "    </tr>\n",
       "    <tr>\n",
       "      <th>sex</th>\n",
       "      <td>0.173737</td>\n",
       "      <td>1.000000</td>\n",
       "      <td>0.088161</td>\n",
       "      <td>0.241010</td>\n",
       "      <td>0.035277</td>\n",
       "      <td>0.142637</td>\n",
       "      <td>-0.379090</td>\n",
       "      <td>0.332115</td>\n",
       "      <td>0.149916</td>\n",
       "      <td>0.208133</td>\n",
       "      <td>0.043062</td>\n",
       "    </tr>\n",
       "    <tr>\n",
       "      <th>bmi</th>\n",
       "      <td>0.185085</td>\n",
       "      <td>0.088161</td>\n",
       "      <td>1.000000</td>\n",
       "      <td>0.395411</td>\n",
       "      <td>0.249777</td>\n",
       "      <td>0.261170</td>\n",
       "      <td>-0.366811</td>\n",
       "      <td>0.413807</td>\n",
       "      <td>0.446157</td>\n",
       "      <td>0.388680</td>\n",
       "      <td>0.586450</td>\n",
       "    </tr>\n",
       "    <tr>\n",
       "      <th>target</th>\n",
       "      <td>0.187889</td>\n",
       "      <td>0.043062</td>\n",
       "      <td>0.586450</td>\n",
       "      <td>0.441482</td>\n",
       "      <td>0.212022</td>\n",
       "      <td>0.174054</td>\n",
       "      <td>-0.394789</td>\n",
       "      <td>0.430453</td>\n",
       "      <td>0.565883</td>\n",
       "      <td>0.382483</td>\n",
       "      <td>1.000000</td>\n",
       "    </tr>\n",
       "    <tr>\n",
       "      <th>s4</th>\n",
       "      <td>0.203841</td>\n",
       "      <td>0.332115</td>\n",
       "      <td>0.413807</td>\n",
       "      <td>0.257650</td>\n",
       "      <td>0.542207</td>\n",
       "      <td>0.659817</td>\n",
       "      <td>-0.738493</td>\n",
       "      <td>1.000000</td>\n",
       "      <td>0.617859</td>\n",
       "      <td>0.417212</td>\n",
       "      <td>0.430453</td>\n",
       "    </tr>\n",
       "    <tr>\n",
       "      <th>s2</th>\n",
       "      <td>0.219243</td>\n",
       "      <td>0.142637</td>\n",
       "      <td>0.261170</td>\n",
       "      <td>0.185548</td>\n",
       "      <td>0.896663</td>\n",
       "      <td>1.000000</td>\n",
       "      <td>-0.196455</td>\n",
       "      <td>0.659817</td>\n",
       "      <td>0.318357</td>\n",
       "      <td>0.290600</td>\n",
       "      <td>0.174054</td>\n",
       "    </tr>\n",
       "    <tr>\n",
       "      <th>s1</th>\n",
       "      <td>0.260061</td>\n",
       "      <td>0.035277</td>\n",
       "      <td>0.249777</td>\n",
       "      <td>0.242464</td>\n",
       "      <td>1.000000</td>\n",
       "      <td>0.896663</td>\n",
       "      <td>0.051519</td>\n",
       "      <td>0.542207</td>\n",
       "      <td>0.515503</td>\n",
       "      <td>0.325717</td>\n",
       "      <td>0.212022</td>\n",
       "    </tr>\n",
       "    <tr>\n",
       "      <th>s5</th>\n",
       "      <td>0.270774</td>\n",
       "      <td>0.149916</td>\n",
       "      <td>0.446157</td>\n",
       "      <td>0.393480</td>\n",
       "      <td>0.515503</td>\n",
       "      <td>0.318357</td>\n",
       "      <td>-0.398577</td>\n",
       "      <td>0.617859</td>\n",
       "      <td>1.000000</td>\n",
       "      <td>0.464669</td>\n",
       "      <td>0.565883</td>\n",
       "    </tr>\n",
       "    <tr>\n",
       "      <th>s6</th>\n",
       "      <td>0.301731</td>\n",
       "      <td>0.208133</td>\n",
       "      <td>0.388680</td>\n",
       "      <td>0.390430</td>\n",
       "      <td>0.325717</td>\n",
       "      <td>0.290600</td>\n",
       "      <td>-0.273697</td>\n",
       "      <td>0.417212</td>\n",
       "      <td>0.464669</td>\n",
       "      <td>1.000000</td>\n",
       "      <td>0.382483</td>\n",
       "    </tr>\n",
       "    <tr>\n",
       "      <th>bp</th>\n",
       "      <td>0.335428</td>\n",
       "      <td>0.241010</td>\n",
       "      <td>0.395411</td>\n",
       "      <td>1.000000</td>\n",
       "      <td>0.242464</td>\n",
       "      <td>0.185548</td>\n",
       "      <td>-0.178762</td>\n",
       "      <td>0.257650</td>\n",
       "      <td>0.393480</td>\n",
       "      <td>0.390430</td>\n",
       "      <td>0.441482</td>\n",
       "    </tr>\n",
       "    <tr>\n",
       "      <th>age</th>\n",
       "      <td>1.000000</td>\n",
       "      <td>0.173737</td>\n",
       "      <td>0.185085</td>\n",
       "      <td>0.335428</td>\n",
       "      <td>0.260061</td>\n",
       "      <td>0.219243</td>\n",
       "      <td>-0.075181</td>\n",
       "      <td>0.203841</td>\n",
       "      <td>0.270774</td>\n",
       "      <td>0.301731</td>\n",
       "      <td>0.187889</td>\n",
       "    </tr>\n",
       "  </tbody>\n",
       "</table>\n",
       "</div>"
      ],
      "text/plain": [
       "             age       sex       bmi        bp        s1        s2        s3  \\\n",
       "s3     -0.075181 -0.379090 -0.366811 -0.178762  0.051519 -0.196455  1.000000   \n",
       "sex     0.173737  1.000000  0.088161  0.241010  0.035277  0.142637 -0.379090   \n",
       "bmi     0.185085  0.088161  1.000000  0.395411  0.249777  0.261170 -0.366811   \n",
       "target  0.187889  0.043062  0.586450  0.441482  0.212022  0.174054 -0.394789   \n",
       "s4      0.203841  0.332115  0.413807  0.257650  0.542207  0.659817 -0.738493   \n",
       "s2      0.219243  0.142637  0.261170  0.185548  0.896663  1.000000 -0.196455   \n",
       "s1      0.260061  0.035277  0.249777  0.242464  1.000000  0.896663  0.051519   \n",
       "s5      0.270774  0.149916  0.446157  0.393480  0.515503  0.318357 -0.398577   \n",
       "s6      0.301731  0.208133  0.388680  0.390430  0.325717  0.290600 -0.273697   \n",
       "bp      0.335428  0.241010  0.395411  1.000000  0.242464  0.185548 -0.178762   \n",
       "age     1.000000  0.173737  0.185085  0.335428  0.260061  0.219243 -0.075181   \n",
       "\n",
       "              s4        s5        s6    target  \n",
       "s3     -0.738493 -0.398577 -0.273697 -0.394789  \n",
       "sex     0.332115  0.149916  0.208133  0.043062  \n",
       "bmi     0.413807  0.446157  0.388680  0.586450  \n",
       "target  0.430453  0.565883  0.382483  1.000000  \n",
       "s4      1.000000  0.617859  0.417212  0.430453  \n",
       "s2      0.659817  0.318357  0.290600  0.174054  \n",
       "s1      0.542207  0.515503  0.325717  0.212022  \n",
       "s5      0.617859  1.000000  0.464669  0.565883  \n",
       "s6      0.417212  0.464669  1.000000  0.382483  \n",
       "bp      0.257650  0.393480  0.390430  0.441482  \n",
       "age     0.203841  0.270774  0.301731  0.187889  "
      ]
     },
     "execution_count": 127,
     "metadata": {},
     "output_type": "execute_result"
    }
   ],
   "source": [
    "data.assign(target=data_target).corr().sort_values(by='age', ascending=True)"
   ]
  },
  {
   "cell_type": "code",
   "execution_count": 93,
   "id": "14ddc6f3",
   "metadata": {},
   "outputs": [
    {
     "data": {
      "text/plain": [
       "(100,)"
      ]
     },
     "execution_count": 93,
     "metadata": {},
     "output_type": "execute_result"
    }
   ],
   "source": [
    "X.flatten().shape"
   ]
  },
  {
   "cell_type": "code",
   "execution_count": null,
   "id": "977f2fe7",
   "metadata": {},
   "outputs": [],
   "source": []
  }
 ],
 "metadata": {
  "kernelspec": {
   "display_name": "Python 3 (ipykernel)",
   "language": "python",
   "name": "python3"
  },
  "language_info": {
   "codemirror_mode": {
    "name": "ipython",
    "version": 3
   },
   "file_extension": ".py",
   "mimetype": "text/x-python",
   "name": "python",
   "nbconvert_exporter": "python",
   "pygments_lexer": "ipython3",
   "version": "3.10.6"
  }
 },
 "nbformat": 4,
 "nbformat_minor": 5
}
